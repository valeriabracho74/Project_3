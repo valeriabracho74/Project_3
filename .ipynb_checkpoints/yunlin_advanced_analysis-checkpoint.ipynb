{
 "cells": [
  {
   "cell_type": "markdown",
   "id": "d140e0dd",
   "metadata": {},
   "source": [
    "# Advanced Analysis with Saved NumPy Arrays"
   ]
  },
  {
   "cell_type": "code",
   "execution_count": null,
   "id": "719b501d",
   "metadata": {},
   "outputs": [],
   "source": [
    "import numpy as np\n",
    "import matplotlib.pyplot as plt"
   ]
  },
  {
   "cell_type": "markdown",
   "id": "87d05880",
   "metadata": {},
   "source": [
    "## Load the saved arrays"
   ]
  },
  {
   "cell_type": "code",
   "execution_count": null,
   "id": "82df2db7",
   "metadata": {},
   "outputs": [],
   "source": [
    "boundary = np.load(\"yunlin_boundary.npy\")\n",
    "cables = np.load(\"yunlin_cables.npy\")\n",
    "turbines = np.load(\"yunlin_turbines.npy\")\n",
    "\n",
    "print(\"Boundary shape:\", boundary.shape)\n",
    "print(\"Cables shape:\", cables.shape)\n",
    "print(\"Turbines shape:\", turbines.shape)"
   ]
  },
  {
   "cell_type": "markdown",
   "id": "99a2b137",
   "metadata": {},
   "source": [
    "## Estimate Wind Farm Area (Shoelace formula)"
   ]
  },
  {
   "cell_type": "code",
   "execution_count": null,
   "id": "1b3f2feb",
   "metadata": {},
   "outputs": [],
   "source": [
    "def polygon_area(coords):\n",
    "    x = coords[:, 0]\n",
    "    y = coords[:, 1]\n",
    "    return 0.5 * np.abs(np.dot(x, np.roll(y, 1)) - np.dot(y, np.roll(x, 1)))\n",
    "\n",
    "area = polygon_area(boundary)\n",
    "print(f\"Estimated Wind Farm Area: {area:.4f} degrees²\")"
   ]
  },
  {
   "cell_type": "markdown",
   "id": "72e15e29",
   "metadata": {},
   "source": [
    "## Total Cable Length"
   ]
  },
  {
   "cell_type": "code",
   "execution_count": null,
   "id": "d8039773",
   "metadata": {},
   "outputs": [],
   "source": [
    "def cable_lengths(array):\n",
    "    return np.sqrt((array[:, 2] - array[:, 0])**2 + (array[:, 3] - array[:, 1])**2)\n",
    "\n",
    "lengths = cable_lengths(cables)\n",
    "print(f\"Number of Cable Segments: {len(lengths)}\")\n",
    "print(f\"Estimated Total Cable Length: {lengths.sum():.4f} degrees\")"
   ]
  },
  {
   "cell_type": "markdown",
   "id": "677dc95f",
   "metadata": {},
   "source": [
    "## Identify Turbines Near the Western Edge"
   ]
  },
  {
   "cell_type": "code",
   "execution_count": null,
   "id": "8714dac1",
   "metadata": {},
   "outputs": [],
   "source": [
    "median_lon = np.median(boundary[:, 0])\n",
    "west_turbines = turbines[turbines[:, 0] < median_lon]\n",
    "\n",
    "plt.figure(figsize=(10, 8))\n",
    "plt.plot(boundary[:, 0], boundary[:, 1], 'b-', label='Boundary')\n",
    "\n",
    "# Cable lines\n",
    "for i, line in enumerate(cables):\n",
    "    plt.plot([line[0], line[2]], [line[1], line[3]], color='gray', alpha=0.6)\n",
    "\n",
    "# All turbines\n",
    "plt.scatter(turbines[:, 0], turbines[:, 1], c='orange', label='All Turbines')\n",
    "# Western turbines\n",
    "plt.scatter(west_turbines[:, 0], west_turbines[:, 1], c='red', label='Western Turbines', marker='x')\n",
    "\n",
    "plt.title(\"Turbine Distribution & Cable Length Estimation\")\n",
    "plt.xlabel(\"Longitude\")\n",
    "plt.ylabel(\"Latitude\")\n",
    "plt.axis('equal')\n",
    "plt.grid(True)\n",
    "plt.legend()\n",
    "plt.show()"
   ]
  }
 ],
 "metadata": {},
 "nbformat": 4,
 "nbformat_minor": 5
}
