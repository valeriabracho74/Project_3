{
 "cells": [
  {
   "cell_type": "markdown",
   "id": "5e2d001c",
   "metadata": {},
   "source": [
    "# Yunlin Wind Farm: Boundary, Inter-Array Cables, and Turbines"
   ]
  },
  {
   "cell_type": "code",
   "execution_count": null,
   "id": "3ff6622b",
   "metadata": {},
   "outputs": [],
   "source": [
    "import json\n",
    "import numpy as np\n",
    "import matplotlib.pyplot as plt"
   ]
  },
  {
   "cell_type": "markdown",
   "id": "afc01cca",
   "metadata": {},
   "source": [
    "## Load Wind Farm Boundary"
   ]
  },
  {
   "cell_type": "code",
   "execution_count": null,
   "id": "92a664f1",
   "metadata": {},
   "outputs": [],
   "source": [
    "with open(\"polygonyunlin.geojson\") as f:\n",
    "    boundary_geojson = json.load(f)\n",
    "\n",
    "boundary_polygons = []\n",
    "for feature in boundary_geojson[\"features\"]:\n",
    "    if feature[\"geometry\"][\"type\"] == \"Polygon\":\n",
    "        coords = np.array(feature[\"geometry\"][\"coordinates\"][0])\n",
    "        boundary_polygons.append(coords)\n",
    "\n",
    "boundary_array = boundary_polygons[0]\n",
    "print(\"Boundary shape:\", boundary_array.shape)\n",
    "boundary_array"
   ]
  },
  {
   "cell_type": "markdown",
   "id": "1bab99a3",
   "metadata": {},
   "source": [
    "## Load Inter-Array Cable Segments"
   ]
  },
  {
   "cell_type": "code",
   "execution_count": null,
   "id": "9f9a8521",
   "metadata": {},
   "outputs": [],
   "source": [
    "with open(\"linecables.geojson\") as f:\n",
    "    cables_geojson = json.load(f)\n",
    "\n",
    "cable_lines = []\n",
    "for feature in cables_geojson[\"features\"]:\n",
    "    if feature[\"geometry\"][\"type\"] == \"LineString\":\n",
    "        coords = feature[\"geometry\"][\"coordinates\"]\n",
    "        for i in range(len(coords) - 1):\n",
    "            x1, y1 = coords[i]\n",
    "            x2, y2 = coords[i + 1]\n",
    "            cable_lines.append([x1, y1, x2, y2])\n",
    "\n",
    "cables_array = np.array(cable_lines)\n",
    "print(\"Cables shape:\", cables_array.shape)\n",
    "cables_array[:5]"
   ]
  },
  {
   "cell_type": "markdown",
   "id": "28a14ece",
   "metadata": {},
   "source": [
    "## Load Wind Turbine Generator Locations"
   ]
  },
  {
   "cell_type": "code",
   "execution_count": null,
   "id": "f480378f",
   "metadata": {},
   "outputs": [],
   "source": [
    "with open(\"pointgenerator.geojson\") as f:\n",
    "    turbines_geojson = json.load(f)\n",
    "\n",
    "turbine_points = []\n",
    "for feature in turbines_geojson[\"features\"]:\n",
    "    if feature[\"geometry\"][\"type\"] == \"Point\":\n",
    "        x, y = feature[\"geometry\"][\"coordinates\"]\n",
    "        turbine_points.append([x, y])\n",
    "\n",
    "turbines_array = np.array(turbine_points)\n",
    "print(\"Turbines shape:\", turbines_array.shape)\n",
    "turbines_array[:5]"
   ]
  },
  {
   "cell_type": "markdown",
   "id": "cc36752d",
   "metadata": {},
   "source": [
    "## Plot All Layers Together"
   ]
  },
  {
   "cell_type": "code",
   "execution_count": null,
   "id": "a46a487f",
   "metadata": {},
   "outputs": [],
   "source": [
    "plt.figure(figsize=(10, 8))\n",
    "\n",
    "# Plot boundary\n",
    "plt.plot(boundary_array[:, 0], boundary_array[:, 1], 'b-', label='Wind Farm Boundary')\n",
    "\n",
    "# Plot cables (with single legend entry)\n",
    "for i, line in enumerate(cables_array):\n",
    "    x1, y1, x2, y2 = line\n",
    "    label = 'Inter-Array Cables' if i == 0 else None\n",
    "    plt.plot([x1, x2], [y1, y2], color='gray', alpha=0.7, label=label)\n",
    "\n",
    "# Plot turbines\n",
    "plt.scatter(turbines_array[:, 0], turbines_array[:, 1], color='orange', label='Turbines', zorder=5)\n",
    "\n",
    "plt.title(\"Yunlin Wind Farm with Cables and Turbines\")\n",
    "plt.xlabel(\"Longitude\")\n",
    "plt.ylabel(\"Latitude\")\n",
    "plt.axis('equal')\n",
    "plt.grid(True)\n",
    "plt.legend()\n",
    "plt.show()"
   ]
  }
 ],
 "metadata": {},
 "nbformat": 4,
 "nbformat_minor": 5
}
